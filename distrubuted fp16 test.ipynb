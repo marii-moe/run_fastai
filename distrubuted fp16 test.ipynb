{
 "cells": [
  {
   "cell_type": "code",
   "execution_count": null,
   "metadata": {},
   "outputs": [],
   "source": [
    "# default_exp distributed"
   ]
  },
  {
   "cell_type": "code",
   "execution_count": null,
   "metadata": {},
   "outputs": [],
   "source": [
    "from fastai.test_utils import *\n",
    "from fastai.callback.training import *\n",
    "from fastai.callback.fp16 import *\n",
    "from fastai.basics import *\n",
    "from fastai.distributed import *"
   ]
  },
  {
   "cell_type": "code",
   "execution_count": 5,
   "metadata": {},
   "outputs": [
    {
     "name": "stdout",
     "output_type": "stream",
     "text": [
      "[TrainEvalCallback, Recorder, ProgressCallback, GetParameters]\n"
     ]
    },
    {
     "data": {
      "text/html": [
       "<table border=\"1\" class=\"dataframe\">\n",
       "  <thead>\n",
       "    <tr style=\"text-align: left;\">\n",
       "      <th>epoch</th>\n",
       "      <th>train_loss</th>\n",
       "      <th>valid_loss</th>\n",
       "      <th>time</th>\n",
       "    </tr>\n",
       "  </thead>\n",
       "  <tbody>\n",
       "    <tr>\n",
       "      <td>0</td>\n",
       "      <td>7.008786</td>\n",
       "      <td>1.418512</td>\n",
       "      <td>00:00</td>\n",
       "    </tr>\n",
       "  </tbody>\n",
       "</table>"
      ],
      "text/plain": [
       "<IPython.core.display.HTML object>"
      ]
     },
     "metadata": {},
     "output_type": "display_data"
    },
    {
     "data": {
      "text/html": [
       "<table border=\"1\" class=\"dataframe\">\n",
       "  <thead>\n",
       "    <tr style=\"text-align: left;\">\n",
       "      <th>epoch</th>\n",
       "      <th>train_loss</th>\n",
       "      <th>valid_loss</th>\n",
       "      <th>time</th>\n",
       "    </tr>\n",
       "  </thead>\n",
       "  <tbody>\n",
       "    <tr>\n",
       "      <td>0</td>\n",
       "      <td>7.008786</td>\n",
       "      <td>1.418512</td>\n",
       "      <td>00:00</td>\n",
       "    </tr>\n",
       "  </tbody>\n",
       "</table>"
      ],
      "text/plain": [
       "<IPython.core.display.HTML object>"
      ]
     },
     "metadata": {},
     "output_type": "display_data"
    }
   ],
   "source": [
    "#hide\n",
    "#cuda\n",
    "#Tests that afer n_batches, parameters should all be the same in fp16 and fp32\n",
    "class GetParameters(Callback):\n",
    "    \"Record non-overflowing parameters, and batches that overflowed in fp16\"\n",
    "    def __init__(self):\n",
    "        self.overflows=[]\n",
    "        self.ps=L()\n",
    "    def after_backward(self):\n",
    "        if grad_overflow([self.model.parameters()]): \n",
    "            self.overflows+=[int((self.iter))]\n",
    "        self.ps+=to_detach(L([p.clone() for p in self.model.parameters()]))\n",
    "#Used to skip batches in fp32, which overflow in fp16\n",
    "class Skip(Callback):\n",
    "    run_after=GetParameters\n",
    "    \"Skips and zero_grads specified batches\"\n",
    "    def __init__(self,skips):\n",
    "        self.skips=skips\n",
    "    def after_backward(self):\n",
    "        if self.iter in self.skips: \n",
    "            self.learn.opt.zero_grad()\n",
    "            raise CancelBatchException()\n",
    "n_batches=10\n",
    "bs=8\n",
    "seed=random.randint(0,2**32-1)\n",
    "with no_random(seed): \n",
    "    #to_native_fp16 will not convert default synth_learner model\n",
    "    model=nn.Sequential(nn.Linear(1,1))\n",
    "    db=synth_dbunch(bs=bs,n_train=n_batches,n_valid=n_batches,cuda=True)\n",
    "    learn = synth_learner(model=model,data=db,cbs=[GetParameters()])\n",
    "    #learn.to_native_fp16()\n",
    "    with learn.distrib_ctx(1):\n",
    "        print(learn.cbs)\n",
    "        learn.fit(1, lr=0.01)\n",
    "pa=learn.get_parameters.ps\n",
    "overflows=learn.get_parameters.overflows\n",
    "with no_random(seed): \n",
    "    model=nn.Sequential(nn.Linear(1,1))\n",
    "    db=synth_dbunch(bs=bs,n_train=n_batches,n_valid=n_batches,cuda=True)\n",
    "    learn = synth_learner(model=model,data=db,cbs=[Skip(overflows),GetParameters()])\n",
    "    learn.fit(1, lr=0.01)\n",
    "pb=learn.get_parameters.ps\n",
    "#test all batches had same parameters in fp16 and fp32\n",
    "test_close(pa,pb,eps=1e-3) "
   ]
  },
  {
   "cell_type": "code",
   "execution_count": null,
   "metadata": {},
   "outputs": [],
   "source": []
  }
 ],
 "metadata": {
  "kernelspec": {
   "display_name": "Python 3",
   "language": "python",
   "name": "python3"
  },
  "language_info": {
   "codemirror_mode": {
    "name": "ipython",
    "version": 3
   },
   "file_extension": ".py",
   "mimetype": "text/x-python",
   "name": "python",
   "nbconvert_exporter": "python",
   "pygments_lexer": "ipython3",
   "version": "3.7.9"
  }
 },
 "nbformat": 4,
 "nbformat_minor": 4
}
