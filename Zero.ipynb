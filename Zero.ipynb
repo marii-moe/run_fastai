{
 "cells": [
  {
   "cell_type": "code",
   "execution_count": 11,
   "id": "tribal-slope",
   "metadata": {},
   "outputs": [],
   "source": [
    "from fastai.basics import *\n",
    "from fastai.distributed import *\n",
    "from fastai.learner import *\n",
    "from fastai.vision import *\n",
    "from fastai.vision.data import *\n",
    "from fastai.data import *\n",
    "from fastai.vision.all import *\n",
    "import torch.distributed as dist\n",
    "from torch._utils import _flatten_dense_tensors, _unflatten_dense_tensors\n",
    "from torch.utils.data import TensorDataset"
   ]
  },
  {
   "cell_type": "code",
   "execution_count": 20,
   "id": "legislative-earthquake",
   "metadata": {},
   "outputs": [],
   "source": [
    "FP16_DeepSpeedZeroOptimizer_Stage1"
   ]
  },
  {
   "cell_type": "code",
   "execution_count": 17,
   "id": "sealed-guard",
   "metadata": {},
   "outputs": [],
   "source": [
    "def Zero_Stage1(params, lr, mom=0.9, sqr_mom=0.99, eps=1e-5, wd=0.01, decouple_wd=True):\n",
    "    \"A `Optimizer` for Adam with `lr`, `mom`, `sqr_mom`, `eps` and `params`\"\n",
    "    cbs = [weight_decay] if decouple_wd else [l2_reg]\n",
    "    cbs += [partial(average_grad, dampening=True), average_sqr_grad, step_stat, adam_step]\n",
    "    return Optimizer(params, cbs, lr=lr, mom=mom, sqr_mom=sqr_mom, eps=eps, wd=wd)"
   ]
  },
  {
   "cell_type": "code",
   "execution_count": 16,
   "id": "sufficient-chapter",
   "metadata": {},
   "outputs": [
    {
     "data": {
      "text/html": [
       "<table border=\"1\" class=\"dataframe\">\n",
       "  <thead>\n",
       "    <tr style=\"text-align: left;\">\n",
       "      <th>epoch</th>\n",
       "      <th>train_loss</th>\n",
       "      <th>valid_loss</th>\n",
       "      <th>time</th>\n",
       "    </tr>\n",
       "  </thead>\n",
       "  <tbody>\n",
       "    <tr>\n",
       "      <td>0</td>\n",
       "      <td>7.596642</td>\n",
       "      <td>0.429888</td>\n",
       "      <td>00:00</td>\n",
       "    </tr>\n",
       "    <tr>\n",
       "      <td>1</td>\n",
       "      <td>3.479436</td>\n",
       "      <td>0.016870</td>\n",
       "      <td>00:00</td>\n",
       "    </tr>\n",
       "    <tr>\n",
       "      <td>2</td>\n",
       "      <td>1.867872</td>\n",
       "      <td>0.027477</td>\n",
       "      <td>00:00</td>\n",
       "    </tr>\n",
       "    <tr>\n",
       "      <td>3</td>\n",
       "      <td>1.099680</td>\n",
       "      <td>0.014495</td>\n",
       "      <td>00:00</td>\n",
       "    </tr>\n",
       "    <tr>\n",
       "      <td>4</td>\n",
       "      <td>0.682311</td>\n",
       "      <td>0.010631</td>\n",
       "      <td>00:00</td>\n",
       "    </tr>\n",
       "    <tr>\n",
       "      <td>5</td>\n",
       "      <td>0.437054</td>\n",
       "      <td>0.009986</td>\n",
       "      <td>00:00</td>\n",
       "    </tr>\n",
       "    <tr>\n",
       "      <td>6</td>\n",
       "      <td>0.286092</td>\n",
       "      <td>0.009920</td>\n",
       "      <td>00:00</td>\n",
       "    </tr>\n",
       "    <tr>\n",
       "      <td>7</td>\n",
       "      <td>0.190431</td>\n",
       "      <td>0.009939</td>\n",
       "      <td>00:00</td>\n",
       "    </tr>\n",
       "    <tr>\n",
       "      <td>8</td>\n",
       "      <td>0.128757</td>\n",
       "      <td>0.009962</td>\n",
       "      <td>00:00</td>\n",
       "    </tr>\n",
       "    <tr>\n",
       "      <td>9</td>\n",
       "      <td>0.088462</td>\n",
       "      <td>0.009928</td>\n",
       "      <td>00:00</td>\n",
       "    </tr>\n",
       "  </tbody>\n",
       "</table>"
      ],
      "text/plain": [
       "<IPython.core.display.HTML object>"
      ]
     },
     "metadata": {},
     "output_type": "display_data"
    }
   ],
   "source": [
    "n_batches=20\n",
    "bs=64\n",
    "seed=1337#random.randint(0,2**32-1)\n",
    "\n",
    "def synth_dbunch(a=2, b=3, bs=16, n_train=10, n_valid=2, cuda=False):\n",
    "    def get_data(n):\n",
    "        x = torch.randn(bs*n, 1)\n",
    "        return TensorDataset(x, a*x + b + 0.1*torch.randn(bs*n, 1))\n",
    "    train_ds = get_data(n_train)\n",
    "    valid_ds = get_data(n_valid)\n",
    "    device = rank_distrib() #default_device() if cuda else None\n",
    "    train_dl = TfmdDL(train_ds, bs=bs, shuffle=True, num_workers=1)\n",
    "    valid_dl = TfmdDL(valid_ds, bs=bs, num_workers=1)\n",
    "    return DataLoaders(train_dl, valid_dl, device=device)\n",
    "    \n",
    "    \n",
    "def synth_learner(n_trn=10, n_val=2, cuda=False, lr=1e-3,opt_func=partial(SGD, mom=0.9), data=None, model=None, **kwargs):\n",
    "    if data is None: data=synth_dbunch(n_train=n_trn,n_valid=n_val, cuda=cuda)\n",
    "    if model is None: model=RegModel()\n",
    "    return Learner(data, model, lr=lr, loss_func=MSELossFlat(),\n",
    "                   opt_func=opt_func, **kwargs)\n",
    "\n",
    "with no_random(seed): \n",
    "    model=nn.Sequential(nn.Linear(1,1))\n",
    "    db=synth_dbunch(bs=bs,n_train=n_batches,n_valid=n_batches,cuda=True)\n",
    "    learn = synth_learner(model=model,data=db)\n",
    "    learn.model.to(learn.dls.device)\n",
    "    learn.to_fp16()\n",
    "    with learn.distrib_ctx(): learn.fit(10, lr=0.01)"
   ]
  },
  {
   "cell_type": "code",
   "execution_count": 22,
   "id": "joint-community",
   "metadata": {},
   "outputs": [
    {
     "data": {
      "text/plain": [
       "[Parameter containing:\n",
       " tensor([[2.0038]], device='cuda:0', requires_grad=True),\n",
       " Parameter containing:\n",
       " tensor([3.0038], device='cuda:0', requires_grad=True)]"
      ]
     },
     "execution_count": 22,
     "metadata": {},
     "output_type": "execute_result"
    }
   ],
   "source": [
    "list(learn.model.parameters())"
   ]
  },
  {
   "cell_type": "markdown",
   "id": "divided-jungle",
   "metadata": {},
   "source": [
    "Starting here"
   ]
  },
  {
   "cell_type": "code",
   "execution_count": 41,
   "id": "amino-letter",
   "metadata": {},
   "outputs": [],
   "source": [
    "parameter_parallel_size = None"
   ]
  },
  {
   "cell_type": "code",
   "execution_count": 42,
   "id": "educational-interface",
   "metadata": {},
   "outputs": [
    {
     "data": {
      "text/plain": [
       "0"
      ]
     },
     "execution_count": 42,
     "metadata": {},
     "output_type": "execute_result"
    }
   ],
   "source": [
    "num_distrib()"
   ]
  },
  {
   "cell_type": "code",
   "execution_count": 49,
   "id": "recorded-phone",
   "metadata": {},
   "outputs": [],
   "source": [
    "data_parallel_size = 2 #num_distrib()"
   ]
  },
  {
   "cell_type": "code",
   "execution_count": 50,
   "id": "casual-elizabeth",
   "metadata": {},
   "outputs": [],
   "source": [
    "parameter_parallel_size = parameter_parallel_size or data_parallel_size"
   ]
  },
  {
   "cell_type": "code",
   "execution_count": 51,
   "id": "dependent-criticism",
   "metadata": {},
   "outputs": [
    {
     "ename": "NameError",
     "evalue": "name 'opt' is not defined",
     "output_type": "error",
     "traceback": [
      "\u001b[0;31m---------------------------------------------------------------------------\u001b[0m",
      "\u001b[0;31mNameError\u001b[0m                                 Traceback (most recent call last)",
      "\u001b[0;32m<ipython-input-51-6c1360bcfc89>\u001b[0m in \u001b[0;36m<module>\u001b[0;34m\u001b[0m\n\u001b[0;32m----> 1\u001b[0;31m \u001b[0mself\u001b[0m\u001b[0;34m.\u001b[0m\u001b[0mopt\u001b[0m\u001b[0;34m=\u001b[0m\u001b[0mopt\u001b[0m\u001b[0;34m\u001b[0m\u001b[0;34m\u001b[0m\u001b[0m\n\u001b[0m",
      "\u001b[0;31mNameError\u001b[0m: name 'opt' is not defined"
     ]
    }
   ],
   "source": [
    "self.opt=opt"
   ]
  },
  {
   "cell_type": "code",
   "execution_count": 52,
   "id": "treated-pregnancy",
   "metadata": {},
   "outputs": [],
   "source": [
    "all_gather_partitions=True"
   ]
  },
  {
   "cell_type": "code",
   "execution_count": 53,
   "id": "ancient-blank",
   "metadata": {},
   "outputs": [],
   "source": [
    "all_gather_size=500000000"
   ]
  },
  {
   "cell_type": "code",
   "execution_count": 54,
   "id": "suitable-bibliography",
   "metadata": {},
   "outputs": [],
   "source": [
    "flat_params=torch.flatten(torch.tensor([[1,2],[3,4]]))"
   ]
  },
  {
   "cell_type": "code",
   "execution_count": 55,
   "id": "integrated-dress",
   "metadata": {},
   "outputs": [
    {
     "data": {
      "text/plain": [
       "2"
      ]
     },
     "execution_count": 55,
     "metadata": {},
     "output_type": "execute_result"
    }
   ],
   "source": [
    "parameter_parallel_size"
   ]
  },
  {
   "cell_type": "code",
   "execution_count": 90,
   "id": "congressional-world",
   "metadata": {},
   "outputs": [
    {
     "data": {
      "text/plain": [
       "(#1) [[Parameter containing:\n",
       "tensor([[2.0038]], device='cuda:0', requires_grad=True), Parameter containing:\n",
       "tensor([3.0038], device='cuda:0', requires_grad=True)]]"
      ]
     },
     "execution_count": 90,
     "metadata": {},
     "output_type": "execute_result"
    }
   ],
   "source": [
    "learn.opt.param_lists"
   ]
  },
  {
   "cell_type": "code",
   "execution_count": 67,
   "id": "induced-morgan",
   "metadata": {},
   "outputs": [],
   "source": [
    "rank=rank_distrib()"
   ]
  },
  {
   "cell_type": "code",
   "execution_count": 61,
   "id": "protective-highlight",
   "metadata": {},
   "outputs": [
    {
     "data": {
      "text/plain": [
       "tensor([1, 2, 3, 4])"
      ]
     },
     "execution_count": 61,
     "metadata": {},
     "output_type": "execute_result"
    }
   ],
   "source": [
    "flat_params"
   ]
  },
  {
   "cell_type": "code",
   "execution_count": 76,
   "id": "provincial-thailand",
   "metadata": {},
   "outputs": [],
   "source": [
    "params=range(rank*flat_params.numel()//parameter_parallel_size,(rank+1)*flat_params.numel()//parameter_parallel_size)\n",
    "params=flat_params[params]"
   ]
  },
  {
   "cell_type": "code",
   "execution_count": 86,
   "id": "aggressive-reach",
   "metadata": {},
   "outputs": [
    {
     "data": {
      "text/plain": [
       "(0, 0)"
      ]
     },
     "execution_count": 86,
     "metadata": {},
     "output_type": "execute_result"
    }
   ],
   "source": [
    "rank_distrib(),num_distrib()"
   ]
  },
  {
   "cell_type": "code",
   "execution_count": 83,
   "id": "academic-lecture",
   "metadata": {},
   "outputs": [
    {
     "data": {
      "text/plain": [
       "Parameter containing:\n",
       "tensor([[2.0038]], device='cuda:0', requires_grad=True)"
      ]
     },
     "execution_count": 83,
     "metadata": {},
     "output_type": "execute_result"
    }
   ],
   "source": [
    "learn.opt.all_params(with_grad=True)[0][0]"
   ]
  },
  {
   "cell_type": "code",
   "execution_count": null,
   "id": "young-doctrine",
   "metadata": {},
   "outputs": [],
   "source": [
    "class ZeroStage1(Optimizer)\n",
    "    def __init__(self,params, cbs, train_bn=True, **defaults):\n",
    "        super().__init__(params, cbs, train_bn=True, **defaults)\n",
    "        par\n",
    "    def step(self): \n",
    "        for p,pg,state,hyper in self.all_params(n=slice(None, None, None),with_grad=True):\n",
    "            for cb in self.cbs: state = _update(state, cb(p, **{**state, **hyper}))\n",
    "            self.state[p] = state\n",
    "    def partition(self):\n",
    "        "
   ]
  },
  {
   "cell_type": "code",
   "execution_count": null,
   "id": "violent-treatment",
   "metadata": {},
   "outputs": [],
   "source": [
    "def opt_func(params,lr,opt,**kwargs):\n",
    "    opt=opt(opt)\n",
    "    "
   ]
  },
  {
   "cell_type": "code",
   "execution_count": 94,
   "id": "architectural-dublin",
   "metadata": {},
   "outputs": [],
   "source": [
    "Optimizer??"
   ]
  },
  {
   "cell_type": "code",
   "execution_count": 93,
   "id": "developed-danger",
   "metadata": {},
   "outputs": [],
   "source": [
    "learn.opt.all_params??"
   ]
  },
  {
   "cell_type": "code",
   "execution_count": 97,
   "id": "warming-pencil",
   "metadata": {},
   "outputs": [],
   "source": [
    "learn.to_non_native_fp16??"
   ]
  },
  {
   "cell_type": "code",
   "execution_count": 96,
   "id": "external-blair",
   "metadata": {},
   "outputs": [],
   "source": [
    "NonNativeMixedPrecision??"
   ]
  },
  {
   "cell_type": "code",
   "execution_count": 98,
   "id": "wound-procedure",
   "metadata": {},
   "outputs": [],
   "source": [
    "ModelToHalf??"
   ]
  },
  {
   "cell_type": "code",
   "execution_count": null,
   "id": "dress-string",
   "metadata": {},
   "outputs": [],
   "source": []
  }
 ],
 "metadata": {
  "kernelspec": {
   "display_name": "Python 3",
   "language": "python",
   "name": "python3"
  },
  "language_info": {
   "codemirror_mode": {
    "name": "ipython",
    "version": 3
   },
   "file_extension": ".py",
   "mimetype": "text/x-python",
   "name": "python",
   "nbconvert_exporter": "python",
   "pygments_lexer": "ipython3",
   "version": "3.7.9"
  }
 },
 "nbformat": 4,
 "nbformat_minor": 5
}
